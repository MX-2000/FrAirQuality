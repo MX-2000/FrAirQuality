{
 "cells": [
  {
   "cell_type": "markdown",
   "id": "b988794a-9454-455e-a2fb-5f79cf2ebca6",
   "metadata": {},
   "source": [
    "<div style=\"text-align: center; color:royalblue;\">\n",
    "    <h1> Projet: Données « temps réel » de mesure des concentrations de polluants atmosphériques réglementés 🧬🧪 </h1>\n",
    "</div>"
   ]
  },
  {
   "cell_type": "markdown",
   "id": "491d5a17-219d-4c55-ab48-dbd9fb98d084",
   "metadata": {},
   "source": [
    "# Note pour nous ( A enlever à la fin du projet)\n",
    "+ La variable discriminant à vérifier\n",
    "+ La variable procédure de mesure à discuter (à conserver ou pas)\n",
    "+ A revoir la colonne type de valeur"
   ]
  },
  {
   "cell_type": "markdown",
   "id": "4f2fa8b8-715c-469f-b2d0-e2507b25353d",
   "metadata": {},
   "source": [
    "## Table référentiel des données"
   ]
  },
  {
   "cell_type": "markdown",
   "id": "43af5daa-aa24-4bb8-a54e-f1e933fe90d6",
   "metadata": {},
   "source": [
    "<div style=\"text-align: center; font-weight: bold; font-size: 1.5em; color: #3A7CA5; margin-bottom: 20px;\">\n",
    "    Tableau des descriptions des colonnes\n",
    "</div>\n",
    "<div style=\"max-height: 400px; overflow-y: auto; border: 1px solid #dddddd;\">\n",
    "<table style=\"width:100%; border-collapse: collapse; text-align: left;\">\n",
    "  <thead>\n",
    "    <tr style=\"background-color: #3A7CA5; color: white;\">\n",
    "      <th style=\"padding: 10px; border: 1px solid #dddddd;\">Libellé de la colonne</th>\n",
    "      <th style=\"padding: 10px; border: 1px solid #dddddd;\">Description</th>\n",
    "    </tr>\n",
    "  </thead>\n",
    "  <tbody>\n",
    "    <tr>\n",
    "      <td style=\"padding: 8px; border: 1px solid #dddddd; font-weight: bold;\">date de début</td>\n",
    "      <td style=\"padding: 8px; border: 1px solid #dddddd;\">date de début de la mesure</td>\n",
    "    </tr>\n",
    "    <tr style=\"background-color: #f2f2f2;\">\n",
    "      <td style=\"padding: 8px; border: 1px solid #dddddd; font-weight: bold;\">date de fin</td>\n",
    "      <td style=\"padding: 8px; border: 1px solid #dddddd;\">date de fin de la mesure</td>\n",
    "    </tr>\n",
    "    <tr>\n",
    "      <td style=\"padding: 8px; border: 1px solid #dddddd; font-weight: bold;\">organisme</td>\n",
    "      <td style=\"padding: 8px; border: 1px solid #dddddd;\">nom de l’AASQA responsable du site de mesure et de la réalisation des mesures</td>\n",
    "    </tr>\n",
    "    <tr style=\"background-color: #f2f2f2;\">\n",
    "      <td style=\"padding: 8px; border: 1px solid #dddddd; font-weight: bold;\">code zas</td>\n",
    "      <td style=\"padding: 8px; border: 1px solid #dddddd;\">code de la zone administrative de surveillance dans laquelle se trouve le point de prélèvement</td>\n",
    "    </tr>\n",
    "    <tr>\n",
    "      <td style=\"padding: 8px; border: 1px solid #dddddd; font-weight: bold;\">zas</td>\n",
    "      <td style=\"padding: 8px; border: 1px solid #dddddd;\">nom de la zone administrative de surveillance dans laquelle se trouve le point de prélèvement</td>\n",
    "    </tr>\n",
    "    <tr style=\"background-color: #f2f2f2;\">\n",
    "      <td style=\"padding: 8px; border: 1px solid #dddddd; font-weight: bold;\">code site</td>\n",
    "      <td style=\"padding: 8px; border: 1px solid #dddddd;\">code du site mesure</td>\n",
    "    </tr>\n",
    "    <tr>\n",
    "      <td style=\"padding: 8px; border: 1px solid #dddddd; font-weight: bold;\">nom site</td>\n",
    "      <td style=\"padding: 8px; border: 1px solid #dddddd;\">nom du site mesure</td>\n",
    "    </tr>\n",
    "    <tr style=\"background-color: #f2f2f2;\">\n",
    "      <td style=\"padding: 8px; border: 1px solid #dddddd; font-weight: bold;\">type d'implantation</td>\n",
    "      <td style=\"padding: 8px; border: 1px solid #dddddd;\">type d'implantation du site de mesure</td>\n",
    "    </tr>\n",
    "    <tr>\n",
    "      <td style=\"padding: 8px; border: 1px solid #dddddd; font-weight: bold;\">polluant</td>\n",
    "      <td style=\"padding: 8px; border: 1px solid #dddddd;\">polluant mesuré</td>\n",
    "    </tr>\n",
    "    <tr style=\"background-color: #f2f2f2;\">\n",
    "      <td style=\"padding: 8px; border: 1px solid #dddddd; font-weight: bold;\">type d'influence</td>\n",
    "      <td style=\"padding: 8px; border: 1px solid #dddddd;\">type d'influence pour le polluant considéré</td>\n",
    "    </tr>\n",
    "    <tr>\n",
    "      <td style=\"padding: 8px; border: 1px solid #dddddd; font-weight: bold;\">discriminant</td>\n",
    "      <td style=\"padding: 8px; border: 1px solid #dddddd;\">code discriminant de la configuration</td>\n",
    "    </tr>\n",
    "    <tr style=\"background-color: #f2f2f2;\">\n",
    "      <td style=\"padding: 8px; border: 1px solid #dddddd; font-weight: bold;\">réglementaire</td>\n",
    "      <td style=\"padding: 8px; border: 1px solid #dddddd;\">caractère réglementaire de la donnée (oui/non)</td>\n",
    "    </tr>\n",
    "    <tr>\n",
    "      <td style=\"padding: 8px; border: 1px solid #dddddd; font-weight: bold;\">type d'évaluation</td>\n",
    "      <td style=\"padding: 8px; border: 1px solid #dddddd;\">type d'évaluation correspondant à la mesure</td>\n",
    "    </tr>\n",
    "    <tr style=\"background-color: #f2f2f2;\">\n",
    "      <td style=\"padding: 8px; border: 1px solid #dddddd; font-weight: bold;\">procédure de mesure</td>\n",
    "      <td style=\"padding: 8px; border: 1px solid #dddddd;\">procédure de mesure</td>\n",
    "    </tr>\n",
    "    <tr>\n",
    "      <td style=\"padding: 8px; border: 1px solid #dddddd; font-weight: bold;\">type de valeur</td>\n",
    "      <td style=\"padding: 8px; border: 1px solid #dddddd;\">type de la donnée ou statistique</td>\n",
    "    </tr>\n",
    "    <tr style=\"background-color: #f2f2f2;\">\n",
    "      <td style=\"padding: 8px; border: 1px solid #dddddd; font-weight: bold;\">valeur</td>\n",
    "      <td style=\"padding: 8px; border: 1px solid #dddddd;\">valeur arrondie</td>\n",
    "    </tr>\n",
    "    <tr>\n",
    "      <td style=\"padding: 8px; border: 1px solid #dddddd; font-weight: bold;\">valeur brute</td>\n",
    "      <td style=\"padding: 8px; border: 1px solid #dddddd;\">valeur brute</td>\n",
    "    </tr>\n",
    "    <tr style=\"background-color: #f2f2f2;\">\n",
    "      <td style=\"padding: 8px; border: 1px solid #dddddd; font-weight: bold;\">unité de mesure</td>\n",
    "      <td style=\"padding: 8px; border: 1px solid #dddddd;\">unité de mesure de la donnée</td>\n",
    "    </tr>\n",
    "    <tr>\n",
    "      <td style=\"padding: 8px; border: 1px solid #dddddd; font-weight: bold;\">taux de saisie</td>\n",
    "      <td style=\"padding: 8px; border: 1px solid #dddddd;\">pourcentage de données valides sur la période de mesure</td>\n",
    "    </tr>\n",
    "    <tr style=\"background-color: #f2f2f2;\">\n",
    "      <td style=\"padding: 8px; border: 1px solid #dddddd; font-weight: bold;\">couverture temporelle</td>\n",
    "      <td style=\"padding: 8px; border: 1px solid #dddddd;\">pourcentage de la période couvert par des mesures</td>\n",
    "    </tr>\n",
    "    <tr>\n",
    "      <td style=\"padding: 8px; border: 1px solid #dddddd; font-weight: bold;\">couverture de données</td>\n",
    "      <td style=\"padding: 8px; border: 1px solid #dddddd;\">pourcentage de données valides sur la période (produit du taux de saisie et de la couverture temporelle)</td>\n",
    "    </tr>\n",
    "    <tr style=\"background-color: #f2f2f2;\">\n",
    "      <td style=\"padding: 8px; border: 1px solid #dddddd; font-weight: bold;\">code qualité</td>\n",
    "      <td style=\"padding: 8px; border: 1px solid #dddddd;\">code qualité de la mesure (A,R,I,..)</td>\n",
    "    </tr>\n",
    "    <tr>\n",
    "      <td style=\"padding: 8px; border: 1px solid #dddddd; font-weight: bold;\">validité</td>\n",
    "      <td style=\"padding: 8px; border: 1px solid #dddddd;\">validité de la mesure</td>\n",
    "    </tr>\n",
    "  </tbody>\n",
    "</table>\n"
   ]
  },
  {
   "cell_type": "markdown",
   "id": "98f2e7bc-7f61-4fee-8608-a421d6a383de",
   "metadata": {},
   "source": [
    "### Importation des librairies"
   ]
  },
  {
   "cell_type": "code",
   "execution_count": 33,
   "id": "53a27737-d0f9-4c79-a940-341050160d36",
   "metadata": {},
   "outputs": [],
   "source": [
    "import time\n",
    "import pandas as pd\n",
    "import urllib\n",
    "import matplotlib.pyplot as plt\n",
    "import seaborn as sns"
   ]
  },
  {
   "cell_type": "markdown",
   "id": "d41b6c46-ffe1-417b-9499-f69be5c9c808",
   "metadata": {},
   "source": [
    "## Configurations"
   ]
  },
  {
   "cell_type": "code",
   "execution_count": 2,
   "id": "88d33f59-656e-4c9b-92b8-1890d09107c5",
   "metadata": {},
   "outputs": [],
   "source": [
    "pd.set_option('display.max_columns', None)"
   ]
  },
  {
   "cell_type": "markdown",
   "id": "f2fc099e-ca7d-4aae-8392-ce50337fc9c2",
   "metadata": {
    "jp-MarkdownHeadingCollapsed": true
   },
   "source": [
    "### Requete des données "
   ]
  },
  {
   "cell_type": "code",
   "execution_count": null,
   "id": "f2a6f19f-68f9-49a9-8e0c-a8d277a6c0d2",
   "metadata": {},
   "outputs": [],
   "source": [
    "BASE_URL = \"https://files.data.gouv.fr/lcsqa/concentrations-de-polluants-atmospheriques-reglementes/temps-reel/\"\n",
    "\n",
    "years = [\"2023\", \"2024\"]\n",
    "FILE_BASE_FORMAT = \"FR_E2_\"\n",
    "specific_hours = [\"00:00:00\", \"08:00:00\", \"16:00:00\"]"
   ]
  },
  {
   "cell_type": "code",
   "execution_count": null,
   "id": "5a8b6a1d-40f3-4eba-b538-ddcff5b9c364",
   "metadata": {},
   "outputs": [],
   "source": [
    "def get_all_month(year, month):\n",
    "    \"\"\"Downloads all available daily data for a specific month and filters it for 3 specific hours.\"\"\"\n",
    "    url = f\"{BASE_URL}/{year}/{FILE_BASE_FORMAT}{year}-{month}\"\n",
    "    df = pd.DataFrame()\n",
    "    \n",
    "    for i in range(1, 32):  # Loop through all possible days of the month\n",
    "        # Format day with leading zero if needed\n",
    "        day = f\"{i:02d}\"\n",
    "\n",
    "        try:\n",
    "            daily_df = pd.read_csv(f\"{url}-{day}.csv\", sep=\";\")\n",
    "            \n",
    "            # Filter rows to keep only the specific hours\n",
    "            if 'Date de début' in daily_df.columns:\n",
    "                # Convert 'Date de début' to datetime \n",
    "                daily_df['Heure'] = pd.to_datetime(daily_df['Date de début']).dt.time\n",
    "                daily_df = daily_df[daily_df['Heure'].astype(str).isin(specific_hours)]\n",
    "                daily_df = daily_df.drop(columns=['Heure'])  # Drop the temporary 'Heure' column\n",
    "\n",
    "        except FileNotFoundError:\n",
    "            print(f\"FileNotFound: {url}-{day}.csv\")\n",
    "            continue\n",
    "        except urllib.error.HTTPError:\n",
    "            print(f\"FileNotFound: {url}-{day}.csv\")\n",
    "            continue\n",
    "\n",
    "        # Concatenate the daily data into the monthly DataFrame\n",
    "        df = pd.concat([df, daily_df]).reset_index(drop=True)\n",
    "\n",
    "    return df\n",
    "\n",
    "\n",
    "def get_all_year(year):\n",
    "    \"\"\"Downloads all monthly data for a year and filters it.\"\"\"\n",
    "    df = pd.DataFrame()\n",
    "    \n",
    "    for i in range(1, 13):  # Loop through all months\n",
    "        month = f\"{i:02d}\"  # Format month with leading zero if needed\n",
    "        print(f\"Downloading month: {i} of year {year}\")\n",
    "        monthly_df = get_all_month(year, month)\n",
    "        \n",
    "        # Concatenate the monthly data into the yearly DataFrame\n",
    "        df = pd.concat([df, monthly_df]).reset_index(drop=True)\n",
    "\n",
    "    return df\n",
    "\n",
    "\n",
    "if __name__ == \"__main__\":\n",
    "    # Create an empty DataFrame to hold data for both years\n",
    "    combined_df = pd.DataFrame()\n",
    "\n",
    "    # Loop through the years 2023 and 2024 and concatenate their data into one DataFrame\n",
    "    for y in years:\n",
    "        yearly_df = get_all_year(y)\n",
    "        combined_df = pd.concat([combined_df, yearly_df]).reset_index(drop=True)\n",
    "\n",
    "    # Save the combined DataFrame as a single CSV file for both years\n",
    "    #combined_df.to_csv(\"AirQuality_2023_2024.csv\", index=False)"
   ]
  },
  {
   "cell_type": "markdown",
   "id": "38c0b9b9-b480-4b3c-b333-4dba654bcbd9",
   "metadata": {},
   "source": [
    "### Charger les données\n",
    "+ Historique: 01 JAN 2023 - 24 OCT 2024"
   ]
  },
  {
   "cell_type": "code",
   "execution_count": 18,
   "id": "eabd3e33-ae98-465d-a519-39b047c2d383",
   "metadata": {},
   "outputs": [],
   "source": [
    "df_original = pd.read_csv(\"./AirQuality_2023_2024.csv\", sep = \",\", header= 0, parse_dates=[\"Date de début\", \"Date de fin\"],\n",
    "                 dtype={\"Organisme\": str, \"code zas\": str, \"Zas\": str, \"code site\": str,\n",
    "                        \"nom site\": str, \"type d'implantation\" : str, \"Polluant\": str,\n",
    "                        \"type d'influence\": str, \"discriminant\": str, \"Réglementaire\": str,\n",
    "                        \"type d'évaluation\": str, \"procédure de mesure\": str, \"type de valeur\": str,\n",
    "                       \"valeur\": float, \"valeur brute\":float, \"unité de mesure\": str, \"code qualité\": str, \"validité\": str})\n"
   ]
  },
  {
   "cell_type": "markdown",
   "id": "972fa6a7",
   "metadata": {},
   "source": [
    "# TODO\n",
    "\n",
    "A enlever"
   ]
  },
  {
   "cell_type": "code",
   "execution_count": 95,
   "id": "2f9aee70",
   "metadata": {},
   "outputs": [
    {
     "data": {
      "text/plain": [
       "(4276152, 23)"
      ]
     },
     "execution_count": 95,
     "metadata": {},
     "output_type": "execute_result"
    }
   ],
   "source": [
    "df = df_original.copy()\n",
    "df.shape"
   ]
  },
  {
   "cell_type": "markdown",
   "id": "02ce36d5-e537-472d-9597-c385b462794a",
   "metadata": {
    "editable": true,
    "slideshow": {
     "slide_type": ""
    },
    "tags": []
   },
   "source": [
    "## Préparation des données"
   ]
  },
  {
   "cell_type": "markdown",
   "id": "7ca9576f-9ed3-45a1-8068-96c2f9262568",
   "metadata": {},
   "source": [
    "### Fonctions"
   ]
  },
  {
   "cell_type": "code",
   "execution_count": 20,
   "id": "fbc65afd-bf56-4b7e-83dd-1506db977047",
   "metadata": {},
   "outputs": [],
   "source": [
    "def df_metrics(df):\n",
    "    '''\n",
    "Cette fonction renvoi:\n",
    "Le taux de valeurs non-nulles par variable\n",
    "Le nombre de valeurs non-nulles par variable\n",
    "Le taux de valeurs par variable\n",
    "    '''\n",
    "    fill_rate = df.notna().mean() * 100 \n",
    "    num_values = df.count()  \n",
    "    na_rate = df.isna().mean() * 100 \n",
    "\n",
    "    metrics_df = pd.DataFrame({\n",
    "        'Fill Rate (%)': fill_rate,\n",
    "        'Number of Values': num_values,\n",
    "        'NA Rate (%)': na_rate\n",
    "    }).sort_values(by =[\"Fill Rate (%)\"], ascending=False)\n",
    "    return metrics_df"
   ]
  },
  {
   "cell_type": "markdown",
   "id": "b05bb8f8-b70d-46a9-8929-3213e484f0c1",
   "metadata": {},
   "source": [
    "### Data Cleaning"
   ]
  },
  {
   "cell_type": "markdown",
   "id": "a0e3e222",
   "metadata": {},
   "source": [
    "#### Renaming column names"
   ]
  },
  {
   "cell_type": "code",
   "execution_count": 98,
   "id": "c843abc8",
   "metadata": {},
   "outputs": [],
   "source": [
    "df.rename(columns={\n",
    "    \"Date de début\": \"Date_debut\", \n",
    "    \"Date de fin\": \"Date_fin\", \n",
    "    \"code zas\": \"code_zas\", \n",
    "    \"code site\": \"code_site\", \n",
    "    \"type d'implantation\": \"implantation_type\", \n",
    "    \"type d'influence\": \"influence_type\", \n",
    "    \"unité de mesure\": \"unite_mesure\", \n",
    "    \"type d'évaluation\": \"type_evaluation\", \n",
    "    \"procédure de mesure\": \"procedure_de_mesure\", \n",
    "    \"type de valeur\": \"type_de_valeur\", \n",
    "    \"nom site\": \"nom_site\", \n",
    "    \"taux de saisie\": \"taux_de_saisie\", \n",
    "    \"couverture temporelle\": \"couverture_temporelle\", \n",
    "    \"couverture de données\": \"couverture_de_donnees\",\n",
    "    \"valeur brute\": \"valeur_brute\",\n",
    "    \"Réglementaire\": \"Reglementaire\",\n",
    "    \"code qualité\": \"code_qualite\"\n",
    "    }, inplace=True)"
   ]
  },
  {
   "cell_type": "markdown",
   "id": "526e8610-defb-4d40-a9a7-1c6ff679b5e4",
   "metadata": {},
   "source": [
    "#### Statistiques descriptives des colonnes (A)"
   ]
  },
  {
   "cell_type": "code",
   "execution_count": 99,
   "id": "c28dccd3-8e72-4f99-b626-facf00b61896",
   "metadata": {
    "scrolled": true
   },
   "outputs": [
    {
     "data": {
      "text/html": [
       "<div>\n",
       "<style scoped>\n",
       "    .dataframe tbody tr th:only-of-type {\n",
       "        vertical-align: middle;\n",
       "    }\n",
       "\n",
       "    .dataframe tbody tr th {\n",
       "        vertical-align: top;\n",
       "    }\n",
       "\n",
       "    .dataframe thead th {\n",
       "        text-align: right;\n",
       "    }\n",
       "</style>\n",
       "<table border=\"1\" class=\"dataframe\">\n",
       "  <thead>\n",
       "    <tr style=\"text-align: right;\">\n",
       "      <th></th>\n",
       "      <th>Fill Rate (%)</th>\n",
       "      <th>Number of Values</th>\n",
       "      <th>NA Rate (%)</th>\n",
       "    </tr>\n",
       "  </thead>\n",
       "  <tbody>\n",
       "    <tr>\n",
       "      <th>Date_debut</th>\n",
       "      <td>100.000000</td>\n",
       "      <td>4276152</td>\n",
       "      <td>0.000000</td>\n",
       "    </tr>\n",
       "    <tr>\n",
       "      <th>Date_fin</th>\n",
       "      <td>100.000000</td>\n",
       "      <td>4276152</td>\n",
       "      <td>0.000000</td>\n",
       "    </tr>\n",
       "    <tr>\n",
       "      <th>Organisme</th>\n",
       "      <td>100.000000</td>\n",
       "      <td>4276152</td>\n",
       "      <td>0.000000</td>\n",
       "    </tr>\n",
       "    <tr>\n",
       "      <th>code_zas</th>\n",
       "      <td>100.000000</td>\n",
       "      <td>4276152</td>\n",
       "      <td>0.000000</td>\n",
       "    </tr>\n",
       "    <tr>\n",
       "      <th>Zas</th>\n",
       "      <td>100.000000</td>\n",
       "      <td>4276152</td>\n",
       "      <td>0.000000</td>\n",
       "    </tr>\n",
       "    <tr>\n",
       "      <th>code_site</th>\n",
       "      <td>100.000000</td>\n",
       "      <td>4276152</td>\n",
       "      <td>0.000000</td>\n",
       "    </tr>\n",
       "    <tr>\n",
       "      <th>nom_site</th>\n",
       "      <td>100.000000</td>\n",
       "      <td>4276152</td>\n",
       "      <td>0.000000</td>\n",
       "    </tr>\n",
       "    <tr>\n",
       "      <th>implantation_type</th>\n",
       "      <td>100.000000</td>\n",
       "      <td>4276152</td>\n",
       "      <td>0.000000</td>\n",
       "    </tr>\n",
       "    <tr>\n",
       "      <th>Polluant</th>\n",
       "      <td>100.000000</td>\n",
       "      <td>4276152</td>\n",
       "      <td>0.000000</td>\n",
       "    </tr>\n",
       "    <tr>\n",
       "      <th>influence_type</th>\n",
       "      <td>100.000000</td>\n",
       "      <td>4276152</td>\n",
       "      <td>0.000000</td>\n",
       "    </tr>\n",
       "    <tr>\n",
       "      <th>Reglementaire</th>\n",
       "      <td>100.000000</td>\n",
       "      <td>4276152</td>\n",
       "      <td>0.000000</td>\n",
       "    </tr>\n",
       "    <tr>\n",
       "      <th>procedure_de_mesure</th>\n",
       "      <td>100.000000</td>\n",
       "      <td>4276152</td>\n",
       "      <td>0.000000</td>\n",
       "    </tr>\n",
       "    <tr>\n",
       "      <th>type_evaluation</th>\n",
       "      <td>100.000000</td>\n",
       "      <td>4276152</td>\n",
       "      <td>0.000000</td>\n",
       "    </tr>\n",
       "    <tr>\n",
       "      <th>type_de_valeur</th>\n",
       "      <td>100.000000</td>\n",
       "      <td>4276152</td>\n",
       "      <td>0.000000</td>\n",
       "    </tr>\n",
       "    <tr>\n",
       "      <th>unite_mesure</th>\n",
       "      <td>100.000000</td>\n",
       "      <td>4276152</td>\n",
       "      <td>0.000000</td>\n",
       "    </tr>\n",
       "    <tr>\n",
       "      <th>code_qualite</th>\n",
       "      <td>100.000000</td>\n",
       "      <td>4276152</td>\n",
       "      <td>0.000000</td>\n",
       "    </tr>\n",
       "    <tr>\n",
       "      <th>validité</th>\n",
       "      <td>100.000000</td>\n",
       "      <td>4276152</td>\n",
       "      <td>0.000000</td>\n",
       "    </tr>\n",
       "    <tr>\n",
       "      <th>valeur_brute</th>\n",
       "      <td>95.856415</td>\n",
       "      <td>4098966</td>\n",
       "      <td>4.143585</td>\n",
       "    </tr>\n",
       "    <tr>\n",
       "      <th>valeur</th>\n",
       "      <td>95.856415</td>\n",
       "      <td>4098966</td>\n",
       "      <td>4.143585</td>\n",
       "    </tr>\n",
       "    <tr>\n",
       "      <th>discriminant</th>\n",
       "      <td>86.285590</td>\n",
       "      <td>3689703</td>\n",
       "      <td>13.714410</td>\n",
       "    </tr>\n",
       "    <tr>\n",
       "      <th>taux_de_saisie</th>\n",
       "      <td>0.000000</td>\n",
       "      <td>0</td>\n",
       "      <td>100.000000</td>\n",
       "    </tr>\n",
       "    <tr>\n",
       "      <th>couverture_de_donnees</th>\n",
       "      <td>0.000000</td>\n",
       "      <td>0</td>\n",
       "      <td>100.000000</td>\n",
       "    </tr>\n",
       "    <tr>\n",
       "      <th>couverture_temporelle</th>\n",
       "      <td>0.000000</td>\n",
       "      <td>0</td>\n",
       "      <td>100.000000</td>\n",
       "    </tr>\n",
       "  </tbody>\n",
       "</table>\n",
       "</div>"
      ],
      "text/plain": [
       "                       Fill Rate (%)  Number of Values  NA Rate (%)\n",
       "Date_debut                100.000000           4276152     0.000000\n",
       "Date_fin                  100.000000           4276152     0.000000\n",
       "Organisme                 100.000000           4276152     0.000000\n",
       "code_zas                  100.000000           4276152     0.000000\n",
       "Zas                       100.000000           4276152     0.000000\n",
       "code_site                 100.000000           4276152     0.000000\n",
       "nom_site                  100.000000           4276152     0.000000\n",
       "implantation_type         100.000000           4276152     0.000000\n",
       "Polluant                  100.000000           4276152     0.000000\n",
       "influence_type            100.000000           4276152     0.000000\n",
       "Reglementaire             100.000000           4276152     0.000000\n",
       "procedure_de_mesure       100.000000           4276152     0.000000\n",
       "type_evaluation           100.000000           4276152     0.000000\n",
       "type_de_valeur            100.000000           4276152     0.000000\n",
       "unite_mesure              100.000000           4276152     0.000000\n",
       "code_qualite              100.000000           4276152     0.000000\n",
       "validité                  100.000000           4276152     0.000000\n",
       "valeur_brute               95.856415           4098966     4.143585\n",
       "valeur                     95.856415           4098966     4.143585\n",
       "discriminant               86.285590           3689703    13.714410\n",
       "taux_de_saisie              0.000000                 0   100.000000\n",
       "couverture_de_donnees       0.000000                 0   100.000000\n",
       "couverture_temporelle       0.000000                 0   100.000000"
      ]
     },
     "execution_count": 99,
     "metadata": {},
     "output_type": "execute_result"
    }
   ],
   "source": [
    "df_metrics(df)"
   ]
  },
  {
   "cell_type": "markdown",
   "id": "04fbfb59-e79a-4fc7-ae66-f09f71120e43",
   "metadata": {},
   "source": [
    "#### Dropping Variables with 100% Null rate"
   ]
  },
  {
   "cell_type": "code",
   "execution_count": 100,
   "id": "72d538a0-158d-48cc-bd1d-9e97b1b4849a",
   "metadata": {
    "scrolled": true
   },
   "outputs": [],
   "source": [
    "df.drop(columns = [\"taux_de_saisie\", \"couverture_temporelle\", \"couverture_de_donnees\"], inplace=True)"
   ]
  },
  {
   "cell_type": "markdown",
   "id": "3988a6ee-e148-462a-9104-c78b4226df65",
   "metadata": {},
   "source": [
    "#### Dropping duplicate variables and unusable variables\n",
    "+ On enlève la colonne Valeur Brute et conserver Valeur car cela est vérifié d'après le référentiel technique national.\n",
    "+ On enlève la variable discriminant car il représente une référentiel interne dans la base des données.\n",
    "+ On enlève la variable Réglementaire car toutes les lignes de données ont la valeur \"Oui\".\n",
    "+ On utilise la variable \"validité\" avec la valeur >=1 pour conserver les données fiables sinon on supprime les lignes."
   ]
  },
  {
   "cell_type": "code",
   "execution_count": 101,
   "id": "92b6b1e7-b48d-4eff-bfdd-bec3aba66de7",
   "metadata": {},
   "outputs": [],
   "source": [
    "df.drop(columns=[\"valeur_brute\", \"discriminant\", \"Reglementaire\", \"code_qualite\"], inplace= True) "
   ]
  },
  {
   "cell_type": "markdown",
   "id": "e2c4b798-a251-4650-89e1-46123be3ecdc",
   "metadata": {},
   "source": [
    "#### Dropping rows with missing values"
   ]
  },
  {
   "cell_type": "code",
   "execution_count": 102,
   "id": "271812cb-c4e5-4da2-a234-a3067df6fbaa",
   "metadata": {},
   "outputs": [],
   "source": [
    "df.dropna(subset = [\"valeur\"], inplace=True)"
   ]
  },
  {
   "cell_type": "markdown",
   "id": "e3a6504c-b9b9-40fa-8d01-77c015f055c5",
   "metadata": {},
   "source": [
    "#### Correction of variable names and values"
   ]
  },
  {
   "cell_type": "code",
   "execution_count": 103,
   "id": "149ccb7a-5175-4776-8aea-1a9af3269038",
   "metadata": {
    "scrolled": true
   },
   "outputs": [],
   "source": [
    "df['unite_mesure'] = df['unite_mesure'].str.replace(\"µg-m3\", \"µg/m3\")\n",
    "df['unite_mesure'] = df['unite_mesure'].str.replace(\"mg-m3\", \"mg/m3\")"
   ]
  },
  {
   "cell_type": "markdown",
   "id": "762a5d4b-54b0-41d6-a29f-e74ac1de2eee",
   "metadata": {},
   "source": [
    "#### Statistiques descriptives des colonnes (B)"
   ]
  },
  {
   "cell_type": "code",
   "execution_count": 104,
   "id": "dba490cc-5f5f-4317-8040-3e7dff098a36",
   "metadata": {
    "scrolled": true
   },
   "outputs": [
    {
     "data": {
      "text/html": [
       "<div>\n",
       "<style scoped>\n",
       "    .dataframe tbody tr th:only-of-type {\n",
       "        vertical-align: middle;\n",
       "    }\n",
       "\n",
       "    .dataframe tbody tr th {\n",
       "        vertical-align: top;\n",
       "    }\n",
       "\n",
       "    .dataframe thead th {\n",
       "        text-align: right;\n",
       "    }\n",
       "</style>\n",
       "<table border=\"1\" class=\"dataframe\">\n",
       "  <thead>\n",
       "    <tr style=\"text-align: right;\">\n",
       "      <th></th>\n",
       "      <th>Fill Rate (%)</th>\n",
       "      <th>Number of Values</th>\n",
       "      <th>NA Rate (%)</th>\n",
       "    </tr>\n",
       "  </thead>\n",
       "  <tbody>\n",
       "    <tr>\n",
       "      <th>Date_debut</th>\n",
       "      <td>100.0</td>\n",
       "      <td>4098966</td>\n",
       "      <td>0.0</td>\n",
       "    </tr>\n",
       "    <tr>\n",
       "      <th>Date_fin</th>\n",
       "      <td>100.0</td>\n",
       "      <td>4098966</td>\n",
       "      <td>0.0</td>\n",
       "    </tr>\n",
       "    <tr>\n",
       "      <th>Organisme</th>\n",
       "      <td>100.0</td>\n",
       "      <td>4098966</td>\n",
       "      <td>0.0</td>\n",
       "    </tr>\n",
       "    <tr>\n",
       "      <th>code_zas</th>\n",
       "      <td>100.0</td>\n",
       "      <td>4098966</td>\n",
       "      <td>0.0</td>\n",
       "    </tr>\n",
       "    <tr>\n",
       "      <th>Zas</th>\n",
       "      <td>100.0</td>\n",
       "      <td>4098966</td>\n",
       "      <td>0.0</td>\n",
       "    </tr>\n",
       "    <tr>\n",
       "      <th>code_site</th>\n",
       "      <td>100.0</td>\n",
       "      <td>4098966</td>\n",
       "      <td>0.0</td>\n",
       "    </tr>\n",
       "    <tr>\n",
       "      <th>nom_site</th>\n",
       "      <td>100.0</td>\n",
       "      <td>4098966</td>\n",
       "      <td>0.0</td>\n",
       "    </tr>\n",
       "    <tr>\n",
       "      <th>implantation_type</th>\n",
       "      <td>100.0</td>\n",
       "      <td>4098966</td>\n",
       "      <td>0.0</td>\n",
       "    </tr>\n",
       "    <tr>\n",
       "      <th>Polluant</th>\n",
       "      <td>100.0</td>\n",
       "      <td>4098966</td>\n",
       "      <td>0.0</td>\n",
       "    </tr>\n",
       "    <tr>\n",
       "      <th>influence_type</th>\n",
       "      <td>100.0</td>\n",
       "      <td>4098966</td>\n",
       "      <td>0.0</td>\n",
       "    </tr>\n",
       "    <tr>\n",
       "      <th>type_evaluation</th>\n",
       "      <td>100.0</td>\n",
       "      <td>4098966</td>\n",
       "      <td>0.0</td>\n",
       "    </tr>\n",
       "    <tr>\n",
       "      <th>procedure_de_mesure</th>\n",
       "      <td>100.0</td>\n",
       "      <td>4098966</td>\n",
       "      <td>0.0</td>\n",
       "    </tr>\n",
       "    <tr>\n",
       "      <th>type_de_valeur</th>\n",
       "      <td>100.0</td>\n",
       "      <td>4098966</td>\n",
       "      <td>0.0</td>\n",
       "    </tr>\n",
       "    <tr>\n",
       "      <th>valeur</th>\n",
       "      <td>100.0</td>\n",
       "      <td>4098966</td>\n",
       "      <td>0.0</td>\n",
       "    </tr>\n",
       "    <tr>\n",
       "      <th>unite_mesure</th>\n",
       "      <td>100.0</td>\n",
       "      <td>4098966</td>\n",
       "      <td>0.0</td>\n",
       "    </tr>\n",
       "    <tr>\n",
       "      <th>validité</th>\n",
       "      <td>100.0</td>\n",
       "      <td>4098966</td>\n",
       "      <td>0.0</td>\n",
       "    </tr>\n",
       "  </tbody>\n",
       "</table>\n",
       "</div>"
      ],
      "text/plain": [
       "                     Fill Rate (%)  Number of Values  NA Rate (%)\n",
       "Date_debut                   100.0           4098966          0.0\n",
       "Date_fin                     100.0           4098966          0.0\n",
       "Organisme                    100.0           4098966          0.0\n",
       "code_zas                     100.0           4098966          0.0\n",
       "Zas                          100.0           4098966          0.0\n",
       "code_site                    100.0           4098966          0.0\n",
       "nom_site                     100.0           4098966          0.0\n",
       "implantation_type            100.0           4098966          0.0\n",
       "Polluant                     100.0           4098966          0.0\n",
       "influence_type               100.0           4098966          0.0\n",
       "type_evaluation              100.0           4098966          0.0\n",
       "procedure_de_mesure          100.0           4098966          0.0\n",
       "type_de_valeur               100.0           4098966          0.0\n",
       "valeur                       100.0           4098966          0.0\n",
       "unite_mesure                 100.0           4098966          0.0\n",
       "validité                     100.0           4098966          0.0"
      ]
     },
     "execution_count": 104,
     "metadata": {},
     "output_type": "execute_result"
    }
   ],
   "source": [
    "df_metrics(df)"
   ]
  },
  {
   "cell_type": "markdown",
   "id": "c8c6808e-7d42-4f96-909c-6294dd3fb49e",
   "metadata": {},
   "source": [
    "#### Duplicate rows verification\n",
    "+ Pas de doublons"
   ]
  },
  {
   "cell_type": "code",
   "execution_count": 66,
   "id": "79840073-91fa-4905-a775-83eda17be87b",
   "metadata": {},
   "outputs": [
    {
     "data": {
      "text/html": [
       "<div>\n",
       "<style scoped>\n",
       "    .dataframe tbody tr th:only-of-type {\n",
       "        vertical-align: middle;\n",
       "    }\n",
       "\n",
       "    .dataframe tbody tr th {\n",
       "        vertical-align: top;\n",
       "    }\n",
       "\n",
       "    .dataframe thead th {\n",
       "        text-align: right;\n",
       "    }\n",
       "</style>\n",
       "<table border=\"1\" class=\"dataframe\">\n",
       "  <thead>\n",
       "    <tr style=\"text-align: right;\">\n",
       "      <th></th>\n",
       "      <th>Date_debut</th>\n",
       "      <th>Date_fin</th>\n",
       "      <th>Organisme</th>\n",
       "      <th>code_zas</th>\n",
       "      <th>Zas</th>\n",
       "      <th>code_site</th>\n",
       "      <th>nom site</th>\n",
       "      <th>implantation_type</th>\n",
       "      <th>Polluant</th>\n",
       "      <th>influence_type</th>\n",
       "      <th>type d'évaluation</th>\n",
       "      <th>procédure de mesure</th>\n",
       "      <th>type de valeur</th>\n",
       "      <th>valeur</th>\n",
       "      <th>unite_mesure</th>\n",
       "      <th>validité</th>\n",
       "    </tr>\n",
       "  </thead>\n",
       "  <tbody>\n",
       "  </tbody>\n",
       "</table>\n",
       "</div>"
      ],
      "text/plain": [
       "Empty DataFrame\n",
       "Columns: [Date_debut, Date_fin, Organisme, code_zas, Zas, code_site, nom site, implantation_type, Polluant, influence_type, type d'évaluation, procédure de mesure, type de valeur, valeur, unite_mesure, validité]\n",
       "Index: []"
      ]
     },
     "execution_count": 66,
     "metadata": {},
     "output_type": "execute_result"
    }
   ],
   "source": [
    "df[df.duplicated()]"
   ]
  },
  {
   "cell_type": "markdown",
   "id": "6f04249a",
   "metadata": {},
   "source": [
    "# Modalités des variables qualitatives"
   ]
  },
  {
   "cell_type": "code",
   "execution_count": 105,
   "id": "0a7a6b3c",
   "metadata": {},
   "outputs": [
    {
     "name": "stdout",
     "output_type": "stream",
     "text": [
      "Unique categories for implantation_type: 5\n",
      "Unique categories for influence_type: 3\n",
      "Unique categories for type_evaluation: 4\n",
      "Unique categories for procedure_de_mesure: 62\n",
      "Unique categories for type_de_valeur: 2\n"
     ]
    }
   ],
   "source": [
    "categorical_columns = [\"implantation_type\",\"influence_type\",\"type_evaluation\", \"procedure_de_mesure\", \"type_de_valeur\"]\n",
    "\n",
    "for cat in categorical_columns: \n",
    "    print(f\"Unique categories for {cat}: {df[cat].nunique()}\")"
   ]
  },
  {
   "cell_type": "code",
   "execution_count": 106,
   "id": "5c872cca",
   "metadata": {},
   "outputs": [
    {
     "name": "stdout",
     "output_type": "stream",
     "text": [
      "implantation_type unique values: ['Urbaine' 'Rurale près des villes' 'Périurbaine' 'Rurale régionale'\n",
      " 'Rurale nationale']\n",
      "influence_type unique values: ['Fond' 'Industrielle' 'Trafic']\n",
      "type_evaluation unique values: ['mesures fixes' 'mesures indicatives' 'estimation objective'\n",
      " 'évaluation préliminaire']\n",
      "type_de_valeur unique values: ['moyenne horaire validée' 'moyenne horaire brute']\n"
     ]
    }
   ],
   "source": [
    "for cat in [\"implantation_type\",\"influence_type\",\"type_evaluation\", \"type_de_valeur\"]: \n",
    "    print(f\"{cat} unique values: {df[cat].unique()}\")"
   ]
  },
  {
   "cell_type": "code",
   "execution_count": 108,
   "id": "6263a453",
   "metadata": {},
   "outputs": [
    {
     "name": "stdout",
     "output_type": "stream",
     "text": [
      "There are 9026 lines with moyenne horaire brute\n"
     ]
    }
   ],
   "source": [
    "print(f\"There are {df[df['type_de_valeur'] == 'moyenne horaire brute'].shape[0]} lines with moyenne horaire brute\")"
   ]
  },
  {
   "cell_type": "markdown",
   "id": "f5b4cb53",
   "metadata": {},
   "source": [
    "If type_de_valeur is moyenne horaire brute, it means the values haven't been verified by a quality assurance process. There are only 9026 lines with this so we decide to remove those lines and remove the column entirely because it'll be left with only one unique value. "
   ]
  },
  {
   "cell_type": "code",
   "execution_count": 111,
   "id": "9ad1c4af",
   "metadata": {},
   "outputs": [],
   "source": [
    "df = df[df[\"type_de_valeur\"] == \"moyenne horaire validée\"]\n",
    "df = df.drop(columns=[\"type_de_valeur\"])"
   ]
  },
  {
   "cell_type": "markdown",
   "id": "41fd6c67",
   "metadata": {},
   "source": [
    "# Analyse Boxplot / graphiques"
   ]
  },
  {
   "cell_type": "code",
   "execution_count": 75,
   "id": "cd94c862",
   "metadata": {},
   "outputs": [],
   "source": [
    "polluants = df[\"Polluant\"].unique().tolist()"
   ]
  },
  {
   "cell_type": "code",
   "execution_count": 76,
   "id": "af3fa0a5",
   "metadata": {},
   "outputs": [],
   "source": [
    "describe_df = pd.DataFrame(columns=polluants, index=[\"count\",\"mean\",\"min\",\"25%\",\"50%\",\"75%\",\"max\",\"std\"])"
   ]
  },
  {
   "cell_type": "code",
   "execution_count": null,
   "id": "93b39db4",
   "metadata": {},
   "outputs": [
    {
     "data": {
      "text/html": [
       "<div>\n",
       "<style scoped>\n",
       "    .dataframe tbody tr th:only-of-type {\n",
       "        vertical-align: middle;\n",
       "    }\n",
       "\n",
       "    .dataframe tbody tr th {\n",
       "        vertical-align: top;\n",
       "    }\n",
       "\n",
       "    .dataframe thead th {\n",
       "        text-align: right;\n",
       "    }\n",
       "</style>\n",
       "<table border=\"1\" class=\"dataframe\">\n",
       "  <thead>\n",
       "    <tr style=\"text-align: right;\">\n",
       "      <th></th>\n",
       "      <th>NO</th>\n",
       "      <th>NO2</th>\n",
       "      <th>O3</th>\n",
       "      <th>NOX as NO2</th>\n",
       "      <th>PM10</th>\n",
       "      <th>PM2.5</th>\n",
       "      <th>C6H6</th>\n",
       "      <th>SO2</th>\n",
       "      <th>CO</th>\n",
       "    </tr>\n",
       "  </thead>\n",
       "  <tbody>\n",
       "    <tr>\n",
       "      <th>count</th>\n",
       "      <td>724022.000000</td>\n",
       "      <td>731958.000000</td>\n",
       "      <td>586868.000000</td>\n",
       "      <td>724612.000000</td>\n",
       "      <td>664820.000000</td>\n",
       "      <td>462763.000000</td>\n",
       "      <td>12270.000000</td>\n",
       "      <td>159345.000000</td>\n",
       "      <td>32308.000000</td>\n",
       "    </tr>\n",
       "    <tr>\n",
       "      <th>mean</th>\n",
       "      <td>6.843780</td>\n",
       "      <td>13.496652</td>\n",
       "      <td>56.873389</td>\n",
       "      <td>23.876806</td>\n",
       "      <td>15.030216</td>\n",
       "      <td>7.973297</td>\n",
       "      <td>1.023033</td>\n",
       "      <td>1.678291</td>\n",
       "      <td>0.232348</td>\n",
       "    </tr>\n",
       "    <tr>\n",
       "      <th>min</th>\n",
       "      <td>-7.900000</td>\n",
       "      <td>-3.500000</td>\n",
       "      <td>-3.700000</td>\n",
       "      <td>-7.200000</td>\n",
       "      <td>-3.500000</td>\n",
       "      <td>-3.400000</td>\n",
       "      <td>0.000000</td>\n",
       "      <td>-5.300000</td>\n",
       "      <td>-0.232000</td>\n",
       "    </tr>\n",
       "    <tr>\n",
       "      <th>25%</th>\n",
       "      <td>0.500000</td>\n",
       "      <td>4.200000</td>\n",
       "      <td>39.000000</td>\n",
       "      <td>5.200000</td>\n",
       "      <td>7.600000</td>\n",
       "      <td>3.700000</td>\n",
       "      <td>0.170000</td>\n",
       "      <td>0.100000</td>\n",
       "      <td>0.130000</td>\n",
       "    </tr>\n",
       "    <tr>\n",
       "      <th>50%</th>\n",
       "      <td>1.400000</td>\n",
       "      <td>8.600000</td>\n",
       "      <td>57.900000</td>\n",
       "      <td>11.100000</td>\n",
       "      <td>12.100000</td>\n",
       "      <td>6.100000</td>\n",
       "      <td>0.430000</td>\n",
       "      <td>0.800000</td>\n",
       "      <td>0.189000</td>\n",
       "    </tr>\n",
       "    <tr>\n",
       "      <th>75%</th>\n",
       "      <td>5.000000</td>\n",
       "      <td>17.900000</td>\n",
       "      <td>74.200000</td>\n",
       "      <td>26.000000</td>\n",
       "      <td>18.800000</td>\n",
       "      <td>10.000000</td>\n",
       "      <td>1.120000</td>\n",
       "      <td>1.700000</td>\n",
       "      <td>0.282000</td>\n",
       "    </tr>\n",
       "    <tr>\n",
       "      <th>max</th>\n",
       "      <td>634.200000</td>\n",
       "      <td>268.100000</td>\n",
       "      <td>206.600000</td>\n",
       "      <td>1147.100000</td>\n",
       "      <td>1514.900000</td>\n",
       "      <td>261.600000</td>\n",
       "      <td>77.860000</td>\n",
       "      <td>855.200000</td>\n",
       "      <td>3.180000</td>\n",
       "    </tr>\n",
       "    <tr>\n",
       "      <th>std</th>\n",
       "      <td>17.291476</td>\n",
       "      <td>13.867392</td>\n",
       "      <td>26.203234</td>\n",
       "      <td>37.630665</td>\n",
       "      <td>12.435277</td>\n",
       "      <td>7.075899</td>\n",
       "      <td>2.099594</td>\n",
       "      <td>7.200285</td>\n",
       "      <td>0.178913</td>\n",
       "    </tr>\n",
       "  </tbody>\n",
       "</table>\n",
       "</div>"
      ],
      "text/plain": [
       "                  NO            NO2             O3     NOX as NO2  \\\n",
       "count  724022.000000  731958.000000  586868.000000  724612.000000   \n",
       "mean        6.843780      13.496652      56.873389      23.876806   \n",
       "min        -7.900000      -3.500000      -3.700000      -7.200000   \n",
       "25%         0.500000       4.200000      39.000000       5.200000   \n",
       "50%         1.400000       8.600000      57.900000      11.100000   \n",
       "75%         5.000000      17.900000      74.200000      26.000000   \n",
       "max       634.200000     268.100000     206.600000    1147.100000   \n",
       "std        17.291476      13.867392      26.203234      37.630665   \n",
       "\n",
       "                PM10          PM2.5          C6H6            SO2            CO  \n",
       "count  664820.000000  462763.000000  12270.000000  159345.000000  32308.000000  \n",
       "mean       15.030216       7.973297      1.023033       1.678291      0.232348  \n",
       "min        -3.500000      -3.400000      0.000000      -5.300000     -0.232000  \n",
       "25%         7.600000       3.700000      0.170000       0.100000      0.130000  \n",
       "50%        12.100000       6.100000      0.430000       0.800000      0.189000  \n",
       "75%        18.800000      10.000000      1.120000       1.700000      0.282000  \n",
       "max      1514.900000     261.600000     77.860000     855.200000      3.180000  \n",
       "std        12.435277       7.075899      2.099594       7.200285      0.178913  "
      ]
     },
     "execution_count": 74,
     "metadata": {},
     "output_type": "execute_result"
    }
   ],
   "source": [
    "for p in polluants: \n",
    "    describe_df[p] = df[df[\"Polluant\"] == p].describe()[\"valeur\"]\n",
    "\n",
    "describe_df"
   ]
  },
  {
   "cell_type": "code",
   "execution_count": 78,
   "id": "b07bb1b2",
   "metadata": {},
   "outputs": [
    {
     "data": {
      "text/plain": [
       "<Axes: xlabel='Polluant', ylabel='valeur'>"
      ]
     },
     "execution_count": 78,
     "metadata": {},
     "output_type": "execute_result"
    },
    {
     "data": {
      "image/png": "[encoded data removed]",
      "text/plain": [
       "<Figure size 1200x1200 with 1 Axes>"
      ]
     },
     "metadata": {},
     "output_type": "display_data"
    }
   ],
   "source": [
    "plt.figure(figsize=(12,12))\n",
    "sns.boxplot(data=df, x=\"Polluant\", y=\"valeur\")"
   ]
  },
  {
   "cell_type": "markdown",
   "id": "5e3497d6",
   "metadata": {},
   "source": [
    "There are a lot of outliers in each category which lower the quality of the boxplot visuals. \n",
    "\n",
    "Let's filter & remove the outliers for each category and visualize the boxplots again"
   ]
  },
  {
   "cell_type": "code",
   "execution_count": 80,
   "id": "c6df0692",
   "metadata": {},
   "outputs": [
    {
     "data": {
      "text/plain": [
       "<Axes: xlabel='Polluant', ylabel='valeur'>"
      ]
     },
     "execution_count": 80,
     "metadata": {},
     "output_type": "execute_result"
    },
    {
     "data": {
      "image/png": "[encoded data removed]",
      "text/plain": [
       "<Figure size 1200x1200 with 1 Axes>"
      ]
     },
     "metadata": {},
     "output_type": "display_data"
    }
   ],
   "source": [
    "filtre = (\n",
    "    ((df[\"Polluant\"]==\"NO\") & (df[\"valeur\"] < 50)) | \n",
    "    ((df[\"Polluant\"]==\"NO2\") & (df[\"valeur\"] < 50)) |\n",
    "    ((df[\"Polluant\"]==\"03\") & (df[\"valeur\"] < 150)) |\n",
    "    ((df[\"Polluant\"]==\"NOX as NO2\") & (df[\"valeur\"] < 50)) | \n",
    "    ((df[\"Polluant\"]==\"PM10\") & (df[\"valeur\"] < 50)) |\n",
    "    ((df[\"Polluant\"]==\"PM2.5\") & (df[\"valeur\"] < 50)) |\n",
    "    ((df[\"Polluant\"]==\"C6H6\") & (df[\"valeur\"] < 5)) | \n",
    "    ((df[\"Polluant\"]==\"SO2\") & (df[\"valeur\"] < 2)) |\n",
    "    ((df[\"Polluant\"]==\"CO\") & (df[\"valeur\"] < 2))\n",
    ")\n",
    "\n",
    "plt.figure(figsize=(12,12))\n",
    "sns.boxplot(data=df[filtre], x=\"Polluant\", y=\"valeur\")"
   ]
  },
  {
   "cell_type": "code",
   "execution_count": null,
   "id": "1ed51fae",
   "metadata": {},
   "outputs": [],
   "source": []
  }
 ],
 "metadata": {
  "kernelspec": {
   "display_name": "venv",
   "language": "python",
   "name": "python3"
  },
  "language_info": {
   "codemirror_mode": {
    "name": "ipython",
    "version": 3
   },
   "file_extension": ".py",
   "mimetype": "text/x-python",
   "name": "python",
   "nbconvert_exporter": "python",
   "pygments_lexer": "ipython3",
   "version": "3.11.7"
  }
 },
 "nbformat": 4,
 "nbformat_minor": 5
}
